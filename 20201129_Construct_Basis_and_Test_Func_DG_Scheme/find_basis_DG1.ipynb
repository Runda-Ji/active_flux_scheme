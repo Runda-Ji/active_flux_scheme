{
 "cells": [
  {
   "cell_type": "code",
   "execution_count": 1,
   "metadata": {},
   "outputs": [],
   "source": [
    "from sympy import *\n",
    "from sympy import init_printing\n",
    "init_printing()\n",
    "uM, uL, uR, xi, nu, theta = symbols('u_M u_L u_R xi nu theta')\n",
    "uML, uLL = symbols('u_M^L u_L^L')\n",
    "c0, c1, c2 = symbols('c_0 c_1 c_2')\n",
    "u = c0 + c1*xi + c2*xi**2\n",
    "# DuDxi = diff(u,xi)\n",
    "# D2uDxi2 = diff(u,xi,2)\n",
    "Iu = Integral(u,(xi,0,1))\n",
    "Iu = simplify(Iu)\n",
    "\n",
    "# setup and solve the equation\n",
    "eqns = [u.subs(xi,0) - uL,\n",
    "        u.subs(xi,1) - uR,\n",
    "                1*Iu - uM]\n",
    "vars = [c0, c1, c2]\n",
    "sol = solve(eqns, vars)\n",
    "u = u.subs([(c0,sol[c0]),\n",
    "            (c1,sol[c1]),\n",
    "            (c2,sol[c2])])\n",
    "# DuDxi = diff(u,xi)\n",
    "# D2uDxi2 = diff(u,xi,2)\n",
    "u = separatevars(u)\n",
    "u = collect(u, [uM, uL, uR])\n",
    "\n",
    "phiuM, phiuL, phiuR = symbols('phi_uM phi_uL phi_uR')\n",
    "phiuM = u.coeff(uM)\n",
    "phiuL = u.coeff(uL)\n",
    "phiuR = u.coeff(uR)\n",
    "\n",
    "psi = symbols('psi')\n",
    "a, b = symbols('a b')\n",
    "psi = 1 + a*xi + b*xi**2\n",
    "\n",
    "IuM = integrate(expand(psi*phiuM, xi),(xi,0,1))\n",
    "IuL = integrate(expand(psi*phiuL, xi),(xi,0,1))\n",
    "IuR = integrate(expand(psi*phiuR, xi),(xi,0,1))\n",
    "\n",
    "# setup and solve the equations set 1 (uR)\n",
    "eqns = [IuL,IuM]\n",
    "vars = [a, b]\n",
    "sol = solve(eqns, vars)\n",
    "psiuR = psi.subs([(a,sol[a]),\n",
    "                  (b,sol[b])])\n",
    "\n",
    "# setup and solve the equations set 2 (uM)\n",
    "eqns = [IuL,IuR]\n",
    "vars = [a, b]\n",
    "sol = solve(eqns, vars)\n",
    "psiuM = psi.subs([(a,sol[a]),\n",
    "                  (b,sol[b])])\n",
    "\n",
    "# output results\n",
    "data = {}\n",
    "data['phi'] = [str(phiuL),\n",
    "               str(phiuM),\n",
    "               str(phiuR)]\n",
    "data['psi'] = [str(psiuM),\n",
    "               str(psiuR)]\n",
    "data['diffpsi'] = [str(diff(psiuM,xi)), \n",
    "                   str(diff(psiuR,xi))]\n",
    "\n",
    "import json\n",
    "with open('json/DG1.json', 'w') as outfile:\n",
    "    json.dump(data, outfile, indent=4)"
   ]
  },
  {
   "cell_type": "code",
   "execution_count": 2,
   "metadata": {},
   "outputs": [
    {
     "data": {
      "image/png": "[encoded data removed]",
      "text/latex": [
       "$\\displaystyle 1$"
      ],
      "text/plain": [
       "1"
      ]
     },
     "execution_count": 2,
     "metadata": {},
     "output_type": "execute_result"
    }
   ],
   "source": [
    "# check\n",
    "integrate(expand(psiuM*phiuM, xi),(xi,0,1))"
   ]
  },
  {
   "cell_type": "code",
   "execution_count": 3,
   "metadata": {},
   "outputs": [
    {
     "data": {
      "image/png": "[encoded data removed]",
      "text/latex": [
       "$\\displaystyle 0$"
      ],
      "text/plain": [
       "0"
      ]
     },
     "execution_count": 3,
     "metadata": {},
     "output_type": "execute_result"
    }
   ],
   "source": [
    "integrate(expand(psiuM*phiuR, xi),(xi,0,1))"
   ]
  },
  {
   "cell_type": "code",
   "execution_count": 4,
   "metadata": {},
   "outputs": [
    {
     "data": {
      "image/png": "[encoded data removed]",
      "text/latex": [
       "$\\displaystyle 0$"
      ],
      "text/plain": [
       "0"
      ]
     },
     "execution_count": 4,
     "metadata": {},
     "output_type": "execute_result"
    }
   ],
   "source": [
    "integrate(expand(psiuM*phiuL, xi),(xi,0,1))"
   ]
  },
  {
   "cell_type": "code",
   "execution_count": 5,
   "metadata": {},
   "outputs": [
    {
     "data": {
      "image/png": "[encoded data removed]",
      "text/latex": [
       "$\\displaystyle 0$"
      ],
      "text/plain": [
       "0"
      ]
     },
     "execution_count": 5,
     "metadata": {},
     "output_type": "execute_result"
    }
   ],
   "source": [
    "integrate(expand(psiuR*phiuM, xi),(xi,0,1))"
   ]
  },
  {
   "cell_type": "code",
   "execution_count": 6,
   "metadata": {},
   "outputs": [
    {
     "data": {
      "image/png": "[encoded data removed]",
      "text/latex": [
       "$\\displaystyle \\frac{1}{3}$"
      ],
      "text/plain": [
       "1/3"
      ]
     },
     "execution_count": 6,
     "metadata": {},
     "output_type": "execute_result"
    }
   ],
   "source": [
    "integrate(expand(psiuR*phiuR, xi),(xi,0,1))"
   ]
  },
  {
   "cell_type": "code",
   "execution_count": 7,
   "metadata": {},
   "outputs": [
    {
     "data": {
      "image/png": "[encoded data removed]",
      "text/latex": [
       "$\\displaystyle 0$"
      ],
      "text/plain": [
       "0"
      ]
     },
     "execution_count": 7,
     "metadata": {},
     "output_type": "execute_result"
    }
   ],
   "source": [
    "integrate(expand(psiuR*phiuL, xi),(xi,0,1))"
   ]
  },
  {
   "cell_type": "code",
   "execution_count": null,
   "metadata": {},
   "outputs": [],
   "source": []
  }
 ],
 "metadata": {
  "kernelspec": {
   "display_name": "Python 3",
   "language": "python",
   "name": "python3"
  },
  "language_info": {
   "codemirror_mode": {
    "name": "ipython",
    "version": 3
   },
   "file_extension": ".py",
   "mimetype": "text/x-python",
   "name": "python",
   "nbconvert_exporter": "python",
   "pygments_lexer": "ipython3",
   "version": "3.8.3"
  }
 },
 "nbformat": 4,
 "nbformat_minor": 4
}
