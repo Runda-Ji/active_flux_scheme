{
 "cells": [
  {
   "cell_type": "code",
   "execution_count": 1,
   "metadata": {},
   "outputs": [],
   "source": [
    "from sympy import *\n",
    "from sympy import init_printing\n",
    "init_printing()\n",
    "uL, uR, xi, nu, theta = symbols('u_L u_R xi nu theta')\n",
    "uLL = symbols('u_L^L')\n",
    "c0, c1 = symbols('c_0 c_1')\n",
    "u = c0 + c1*xi\n",
    "\n",
    "# setup and solve the equation\n",
    "eqns = [u.subs(xi,0) - uL,\n",
    "        u.subs(xi,1) - uR]\n",
    "vars = [c0, c1]\n",
    "sol = solve(eqns, vars)\n",
    "u = u.subs([(c0,sol[c0]),\n",
    "            (c1,sol[c1])])\n",
    "u = separatevars(u)\n",
    "u = collect(u, [uL, uR])\n",
    "\n",
    "phiuL, phiuR = symbols('phi_uL phi_uR')\n",
    "phiuL = u.coeff(uL)\n",
    "phiuR = u.coeff(uR)\n",
    "\n",
    "psi = symbols('psi')\n",
    "psi = 1\n",
    "\n",
    "# output results\n",
    "data = {}\n",
    "data['phi'] = [str(phiuL),\n",
    "               str(phiuR)]\n",
    "data['psi'] = [str(psi)]\n",
    "data['diffpsi'] = [str(diff(psi,xi))]\n",
    "import json\n",
    "with open('json/DG0.json', 'w') as outfile:\n",
    "    json.dump(data, outfile, indent=4)"
   ]
  },
  {
   "cell_type": "code",
   "execution_count": null,
   "metadata": {},
   "outputs": [],
   "source": []
  }
 ],
 "metadata": {
  "kernelspec": {
   "display_name": "Python 3",
   "language": "python",
   "name": "python3"
  },
  "language_info": {
   "codemirror_mode": {
    "name": "ipython",
    "version": 3
   },
   "file_extension": ".py",
   "mimetype": "text/x-python",
   "name": "python",
   "nbconvert_exporter": "python",
   "pygments_lexer": "ipython3",
   "version": "3.8.3"
  }
 },
 "nbformat": 4,
 "nbformat_minor": 4
}
