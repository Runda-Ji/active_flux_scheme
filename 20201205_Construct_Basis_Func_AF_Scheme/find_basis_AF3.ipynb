{
 "cells": [
  {
   "cell_type": "code",
   "execution_count": 2,
   "metadata": {},
   "outputs": [],
   "source": [
    "from sympy import *\n",
    "from sympy import init_printing\n",
    "init_printing()\n",
    "uM, uL, uR, xi, nu, theta = symbols('u_M u_L u_R xi nu theta')\n",
    "uML, uLL = symbols('u_M^L u_L^L')\n",
    "c0, c1, c2 = symbols('c_0 c_1 c_2')\n",
    "u = c0 + c1*xi + c2*xi**2\n",
    "# DuDxi = diff(u,xi)\n",
    "# D2uDxi2 = diff(u,xi,2)\n",
    "Iu = Integral(u,(xi,0,1))\n",
    "Iu = simplify(Iu)\n",
    "\n",
    "# setup and solve the equation\n",
    "eqns = [u.subs(xi,0) - uL,\n",
    "        u.subs(xi,1) - uR,\n",
    "                1*Iu - uM]\n",
    "vars = [c0, c1, c2]\n",
    "sol = solve(eqns, vars)\n",
    "u = u.subs([(c0,sol[c0]),\n",
    "            (c1,sol[c1]),\n",
    "            (c2,sol[c2])])\n",
    "# DuDxi = diff(u,xi)\n",
    "# D2uDxi2 = diff(u,xi,2)\n",
    "u = separatevars(u)\n",
    "u = collect(u, [uM, uL, uR])\n",
    "\n",
    "phiuM, phiuL, phiuR = symbols('phi_uM phi_uL phi_uR')\n",
    "phiuM = u.coeff(uM)\n",
    "phiuL = u.coeff(uL)\n",
    "phiuR = u.coeff(uR)\n",
    "\n",
    "# output results\n",
    "data = {}\n",
    "data['phi'] = [str(phiuL),\n",
    "               str(phiuM),\n",
    "               str(phiuR)]\n",
    "data['diffphi'] = [str(diff(phiuL,xi)),\n",
    "                   str(diff(phiuM,xi)),\n",
    "                   str(diff(phiuR,xi))]\n",
    "data['diff2phi'] = [str(diff(phiuL,xi,2)),\n",
    "                    str(diff(phiuM,xi,2)),\n",
    "                    str(diff(phiuR,xi,2))]\n",
    "IuL = simplify(Integral(phiuL,xi))\n",
    "IuM = simplify(Integral(phiuM,xi))\n",
    "IuR = simplify(expand(Integral(phiuR,xi)))\n",
    "data['intphi'] = [str(IuL),\n",
    "                  str(IuM),\n",
    "                  str(IuR)]\n",
    "\n",
    "import json\n",
    "with open('json/AF3.json', 'w') as outfile:\n",
    "    json.dump(data, outfile, indent=4)"
   ]
  },
  {
   "cell_type": "code",
   "execution_count": null,
   "metadata": {},
   "outputs": [],
   "source": []
  }
 ],
 "metadata": {
  "kernelspec": {
   "display_name": "Python 3",
   "language": "python",
   "name": "python3"
  },
  "language_info": {
   "codemirror_mode": {
    "name": "ipython",
    "version": 3
   },
   "file_extension": ".py",
   "mimetype": "text/x-python",
   "name": "python",
   "nbconvert_exporter": "python",
   "pygments_lexer": "ipython3",
   "version": "3.8.3"
  }
 },
 "nbformat": 4,
 "nbformat_minor": 4
}
